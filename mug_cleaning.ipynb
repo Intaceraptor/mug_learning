{
 "cells": [
  {
   "cell_type": "markdown",
   "metadata": {},
   "source": [
    "Notebook with simple functions to regularize the original images and save them in a corresponding folder. "
   ]
  },
  {
   "cell_type": "code",
   "execution_count": 6,
   "metadata": {},
   "outputs": [
    {
     "name": "stdout",
     "output_type": "stream",
     "text": [
      "Processing completed!\n"
     ]
    }
   ],
   "source": [
    "import cv2\n",
    "import os\n",
    "import numpy as np\n",
    "\n",
    "# Set parameters\n",
    "input_folder = 'mug_test_orig'  # Change this to your folder path\n",
    "output_folder = 'mug_test'  # Change this to your output folder\n",
    "target_size = (224, 224)  # Desired size (width, height)\n",
    "\n",
    "# Create output folder if it doesn't exist\n",
    "os.makedirs(output_folder, exist_ok=True)\n",
    "\n",
    "# Process each image in the input folder\n",
    "for filename in os.listdir(input_folder):\n",
    "    if filename.endswith('.jpeg') or filename.endswith('.jpg'):\n",
    "        # Read the image\n",
    "        img_path = os.path.join(input_folder, filename)\n",
    "        img = cv2.imread(img_path)\n",
    "\n",
    "        # Resize the image\n",
    "        resized_img = cv2.resize(img, target_size)\n",
    "\n",
    "        # Normalize the image\n",
    "        normalized_img = cv2.normalize(resized_img, None, alpha=0, beta=255, norm_type=cv2.NORM_MINMAX)\n",
    "\n",
    "        # Save the processed image\n",
    "        output_path = os.path.join(output_folder, filename)\n",
    "        cv2.imwrite(output_path, normalized_img)\n",
    "\n",
    "print(\"Processing completed!\")"
   ]
  },
  {
   "cell_type": "code",
   "execution_count": 7,
   "metadata": {},
   "outputs": [
    {
     "name": "stdout",
     "output_type": "stream",
     "text": [
      "Processing completed!\n"
     ]
    }
   ],
   "source": [
    "input_folder = 'non_mug_train_orig'  # Change this to your folder path\n",
    "output_folder = 'non_mug_train'  # Change this to your output folder\n",
    "target_size = (224, 224)  # Desired size (width, height)\n",
    "\n",
    "# Create output folder if it doesn't exist\n",
    "os.makedirs(output_folder, exist_ok=True)\n",
    "\n",
    "# Process each image in the input folder\n",
    "for filename in os.listdir(input_folder):\n",
    "    if filename.endswith('.jpeg') or filename.endswith('.jpg'):\n",
    "        # Read the image\n",
    "        img_path = os.path.join(input_folder, filename)\n",
    "        img = cv2.imread(img_path)\n",
    "\n",
    "        # Resize the image\n",
    "        resized_img = cv2.resize(img, target_size)\n",
    "\n",
    "        # Normalize the image\n",
    "        normalized_img = cv2.normalize(resized_img, None, alpha=0, beta=255, norm_type=cv2.NORM_MINMAX)\n",
    "\n",
    "        # Save the processed image\n",
    "        output_path = os.path.join(output_folder, filename)\n",
    "        cv2.imwrite(output_path, normalized_img)\n",
    "\n",
    "print(\"Processing completed!\")"
   ]
  },
  {
   "cell_type": "code",
   "execution_count": 8,
   "metadata": {},
   "outputs": [
    {
     "name": "stdout",
     "output_type": "stream",
     "text": [
      "Processing completed!\n"
     ]
    }
   ],
   "source": [
    "input_folder = 'mug_train_orig'  # Change this to your folder path\n",
    "output_folder = 'mug_train'  # Change this to your output folder\n",
    "target_size = (224, 224)  # Desired size (width, height)\n",
    "\n",
    "# Create output folder if it doesn't exist\n",
    "os.makedirs(output_folder, exist_ok=True)\n",
    "\n",
    "# Process each image in the input folder\n",
    "for filename in os.listdir(input_folder):\n",
    "    if filename.endswith('.jpeg') or filename.endswith('.jpg'):\n",
    "        # Read the image\n",
    "        img_path = os.path.join(input_folder, filename)\n",
    "        img = cv2.imread(img_path)\n",
    "\n",
    "        # Resize the image\n",
    "        resized_img = cv2.resize(img, target_size)\n",
    "\n",
    "        # Normalize the image\n",
    "        normalized_img = cv2.normalize(resized_img, None, alpha=0, beta=255, norm_type=cv2.NORM_MINMAX)\n",
    "\n",
    "        # Save the processed image\n",
    "        output_path = os.path.join(output_folder, filename)\n",
    "        cv2.imwrite(output_path, normalized_img)\n",
    "\n",
    "print(\"Processing completed!\")"
   ]
  }
 ],
 "metadata": {
  "kernelspec": {
   "display_name": "Python 3",
   "language": "python",
   "name": "python3"
  },
  "language_info": {
   "codemirror_mode": {
    "name": "ipython",
    "version": 3
   },
   "file_extension": ".py",
   "mimetype": "text/x-python",
   "name": "python",
   "nbconvert_exporter": "python",
   "pygments_lexer": "ipython3",
   "version": "3.12.4"
  }
 },
 "nbformat": 4,
 "nbformat_minor": 2
}
